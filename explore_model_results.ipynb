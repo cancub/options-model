{
 "cells": [
  {
   "cell_type": "code",
   "execution_count": null,
   "metadata": {},
   "outputs": [],
   "source": [
    "import tensorflow as tf\n",
    "from   tensorflow import keras\n",
    "from   tensorflow.keras import regularizers\n",
    "from   tensorflow.keras import Sequential\n",
    "from   tensorflow.keras.layers import Dropout, Dense"
   ]
  },
  {
   "cell_type": "code",
   "execution_count": null,
   "metadata": {},
   "outputs": [],
   "source": [
    "import json\n",
    "import matplotlib.pyplot as plt\n",
    "import numpy as np\n",
    "import os\n",
    "import pandas as pd"
   ]
  },
  {
   "cell_type": "code",
   "execution_count": null,
   "metadata": {},
   "outputs": [],
   "source": [
    "import config\n",
    "import models\n",
    "import trade_processing as tp\n",
    "import utils"
   ]
  },
  {
   "cell_type": "code",
   "execution_count": null,
   "metadata": {},
   "outputs": [],
   "source": [
    "TICKER   = 'SPY'\n",
    "WIN_PROB = 10\n",
    "MARGIN   = 5\n",
    "PROFIT   = 1 + utils.calculate_fee()"
   ]
  },
  {
   "cell_type": "code",
   "execution_count": null,
   "metadata": {},
   "outputs": [],
   "source": [
    "options_model = models.load_best_model(TICKER, MARGIN, PROFIT)"
   ]
  },
  {
   "cell_type": "code",
   "execution_count": null,
   "metadata": {
    "scrolled": true
   },
   "outputs": [],
   "source": [
    "# Load the trades\n",
    "trades_df = utils.build_examples(\n",
    "    ticker=TICKER,\n",
    "    max_margin=MARGIN,\n",
    "    winning_profit=PROFIT,\n",
    "    total_trades=100000,\n",
    "    l_to_w_ratio=2,\n",
    "    loss_pool_multiplier=2,\n",
    "    verbose=True\n",
    ")"
   ]
  },
  {
   "cell_type": "code",
   "execution_count": null,
   "metadata": {},
   "outputs": [],
   "source": [
    "options_model.insert_predictions(trades_df)\n",
    "trades_df.sort_values(by=['confidence'], ascending=False, inplace=True)"
   ]
  },
  {
   "cell_type": "code",
   "execution_count": null,
   "metadata": {},
   "outputs": [],
   "source": [
    "good_bets = trades_df[trades_df.confidence > WIN_PROB]\n",
    "winners   = good_bets[(good_bets.max_profit > 1.2)]\n",
    "print('{:>8} good bets {:>5.1%}, of those {:.2%} winners.'.format(\n",
    "    good_bets.shape[0], good_bets.shape[0] / trades_df.shape[0], winners.shape[0] / good_bets.shape[0]))"
   ]
  },
  {
   "cell_type": "code",
   "execution_count": null,
   "metadata": {},
   "outputs": [],
   "source": [
    "winners.shape"
   ]
  },
  {
   "cell_type": "code",
   "execution_count": null,
   "metadata": {},
   "outputs": [],
   "source": [
    "good_bets.shape"
   ]
  },
  {
   "cell_type": "code",
   "execution_count": null,
   "metadata": {},
   "outputs": [],
   "source": [
    "winners.minutes_to_expiry.median() / (60 * 24)"
   ]
  },
  {
   "cell_type": "code",
   "execution_count": null,
   "metadata": {},
   "outputs": [],
   "source": [
    "good_bets.max_profit.min()"
   ]
  },
  {
   "cell_type": "code",
   "execution_count": null,
   "metadata": {},
   "outputs": [],
   "source": [
    "good_bets.max_profit.median()"
   ]
  },
  {
   "cell_type": "code",
   "execution_count": null,
   "metadata": {},
   "outputs": [],
   "source": [
    "good_bets.max_profit.max()"
   ]
  },
  {
   "cell_type": "code",
   "execution_count": null,
   "metadata": {},
   "outputs": [],
   "source": [
    "good_bets.hist(\n",
    "    column=['open_margin', 'max_profit'],\n",
    "    sharey=True,\n",
    "    bins=40,\n",
    ")\n",
    "plt.show()"
   ]
  },
  {
   "cell_type": "code",
   "execution_count": null,
   "metadata": {},
   "outputs": [],
   "source": [
    "for d in good_bets.description.unique():\n",
    "    d_bets = good_bets[good_bets.description == d]\n",
    "    d_total = d_bets.shape[0]\n",
    "    print('{:>25}: {:>6} ({:>5.1%}), median = {:.3}'.format(\n",
    "        d, d_total, d_total / good_bets.shape[0], d_bets.max_profit.median()))"
   ]
  },
  {
   "cell_type": "code",
   "execution_count": null,
   "metadata": {},
   "outputs": [],
   "source": [
    "for d in trades_df.description.unique():\n",
    "    d_bets = trades_df[trades_df.description == d]\n",
    "    d_total = d_bets.shape[0]\n",
    "    print('{:>25}: {} ({:.1%})'.format(d, d_total, d_total / trades_df.shape[0]))"
   ]
  },
  {
   "cell_type": "code",
   "execution_count": null,
   "metadata": {},
   "outputs": [],
   "source": []
  }
 ],
 "metadata": {
  "kernelspec": {
   "display_name": "Python 3",
   "language": "python",
   "name": "python3"
  },
  "language_info": {
   "codemirror_mode": {
    "name": "ipython",
    "version": 3
   },
   "file_extension": ".py",
   "mimetype": "text/x-python",
   "name": "python",
   "nbconvert_exporter": "python",
   "pygments_lexer": "ipython3",
   "version": "3.7.6"
  }
 },
 "nbformat": 4,
 "nbformat_minor": 4
}
