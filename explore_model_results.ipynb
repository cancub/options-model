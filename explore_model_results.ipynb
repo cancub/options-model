{
 "cells": [
  {
   "cell_type": "code",
   "execution_count": null,
   "metadata": {},
   "outputs": [],
   "source": [
    "import tensorflow as tf\n",
    "from   tensorflow import keras\n",
    "from   tensorflow.keras import regularizers\n",
    "from   tensorflow.keras import Sequential\n",
    "from   tensorflow.keras.layers import Dropout, Dense"
   ]
  },
  {
   "cell_type": "code",
   "execution_count": null,
   "metadata": {},
   "outputs": [],
   "source": [
    "import json\n",
    "import matplotlib.pyplot as plt\n",
    "import numpy as np\n",
    "import os\n",
    "import pandas as pd"
   ]
  },
  {
   "cell_type": "code",
   "execution_count": null,
   "metadata": {},
   "outputs": [],
   "source": [
    "import config\n",
    "import datasets\n",
    "import models\n",
    "import trade_processing as tp\n",
    "import utils"
   ]
  },
  {
   "cell_type": "code",
   "execution_count": null,
   "metadata": {},
   "outputs": [],
   "source": [
    "TICKER   = 'SPY'\n",
    "WIN_PROB = 10\n",
    "MARGIN   = 5\n",
    "PROFIT   = 1"
   ]
  },
  {
   "cell_type": "code",
   "execution_count": null,
   "metadata": {},
   "outputs": [],
   "source": [
    "options_model = models.load_best_model(TICKER, MARGIN, PROFIT)\n",
    "percentiles = options_model.percentiles"
   ]
  },
  {
   "cell_type": "code",
   "execution_count": null,
   "metadata": {
    "scrolled": true
   },
   "outputs": [],
   "source": [
    "# Load the trades\n",
    "trades_df = datasets.load_dataset(\n",
    "    ticker=TICKER,\n",
    "    max_margin=MARGIN,\n",
    "    min_profit=PROFIT,\n",
    "    total_datapoints=200000,\n",
    "    verbose=True\n",
    ").data"
   ]
  },
  {
   "cell_type": "code",
   "execution_count": null,
   "metadata": {},
   "outputs": [],
   "source": [
    "unique_strats = trades_df.description.unique()\n",
    "for s in unique_strats:\n",
    "    s_bets = trades_df[trades_df.description == s]\n",
    "    s_total = s_bets.shape[0]\n",
    "    print('{:>25}: {} ({:.1%})'.format(s, s_total, s_total / trades_df.shape[0]))"
   ]
  },
  {
   "cell_type": "code",
   "execution_count": null,
   "metadata": {},
   "outputs": [],
   "source": [
    "options_model.insert_predictions(trades_df)\n",
    "trades_df.sort_values(by=['confidence'], ascending=False, inplace=True)\n",
    "trades_df.head(20)"
   ]
  },
  {
   "cell_type": "code",
   "execution_count": 7,
   "metadata": {},
   "outputs": [],
   "source": [
    "def print_details(strat_substrings=None, percentile=None):\n",
    "\n",
    "    def formatter(desc, form, val):\n",
    "        try:\n",
    "            print('{:<25}: {}'.format(desc,form.format(val)))\n",
    "        except TypeError:\n",
    "            print('{:<25}: {}'.format(desc,form.format(*val)))\n",
    "\n",
    "    df = trades_df\n",
    "    if strat_substrings is not None:\n",
    "        df = df[df.description.map(lambda d: all(s in d for s in strat_substrings))]\n",
    "    if percentile is not None:\n",
    "        thresh = percentiles[str(percentile)]\n",
    "        formatter('Threshold', '{:.1f}', thresh)\n",
    "        df = df[df.confidence >= thresh]\n",
    "\n",
    "    count = df.shape[0]\n",
    "    winners = df[(df.max_profit > PROFIT)]\n",
    "    \n",
    "    formatter('Total good bets',\n",
    "              '{:<6} ({:>5.1%})', [count, count / trades_df.shape[0]])\n",
    "    formatter('Total winners', '{:.2%}', winners.shape[0] / count)\n",
    "    formatter('Median days to expiry',\n",
    "              '{:.1f}', winners.seconds_to_expiry.median() / (60 * 60 * 24))\n",
    "    print()\n",
    "    profit = df.max_profit\n",
    "    formatter('Min profit', '{:.2f}', profit.min())\n",
    "    formatter('Median profit', '{:.2f}', profit.median())\n",
    "    formatter('Max profit', '{:.2f}', profit.max())\n",
    "    \n",
    "    print()\n",
    "\n",
    "    df.hist(\n",
    "        column=['open_margin', 'max_profit'],\n",
    "        sharey=True,\n",
    "        bins=40,\n",
    "    )\n",
    "    plt.show()"
   ]
  },
  {
   "cell_type": "code",
   "execution_count": null,
   "metadata": {},
   "outputs": [],
   "source": [
    "print_details(percentile=90)"
   ]
  }
 ],
 "metadata": {
  "kernelspec": {
   "display_name": "Python 3",
   "language": "python",
   "name": "python3"
  },
  "language_info": {
   "codemirror_mode": {
    "name": "ipython",
    "version": 3
   },
   "file_extension": ".py",
   "mimetype": "text/x-python",
   "name": "python",
   "nbconvert_exporter": "python",
   "pygments_lexer": "ipython3",
   "version": "3.7.6"
  }
 },
 "nbformat": 4,
 "nbformat_minor": 4
}
