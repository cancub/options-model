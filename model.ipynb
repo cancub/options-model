{
 "cells": [
  {
   "cell_type": "code",
   "execution_count": 127,
   "metadata": {},
   "outputs": [],
   "source": [
    "import tensorflow as tf\n",
    "from   tensorflow import keras\n",
    "from   tensorflow.keras import regularizers\n",
    "from   tensorflow.keras import Sequential\n",
    "from   tensorflow.keras.layers import Dropout, Dense\n",
    "\n",
    "from   IPython import display\n",
    "from   matplotlib import pyplot as plt\n",
    "\n",
    "import numpy as np\n",
    "\n",
    "import pathlib\n",
    "import shutil\n",
    "import tempfile\n",
    "\n",
    "import config"
   ]
  },
  {
   "cell_type": "code",
   "execution_count": 128,
   "metadata": {
    "tags": []
   },
   "outputs": [],
   "source": [
    "import tensorflow_docs as tfdocs\n",
    "import tensorflow_docs.modeling\n",
    "import tensorflow_docs.plots"
   ]
  },
  {
   "cell_type": "code",
   "execution_count": 129,
   "metadata": {},
   "outputs": [],
   "source": [
    "logdir = pathlib.Path(tempfile.mkdtemp())/\"tensorboard_logs\"\n",
    "shutil.rmtree(logdir, ignore_errors=True)"
   ]
  },
  {
   "cell_type": "code",
   "execution_count": 130,
   "metadata": {},
   "outputs": [],
   "source": [
    "TICKER = 'SPY'\n",
    "EXPIRY = '2020-08-21'"
   ]
  },
  {
   "cell_type": "code",
   "execution_count": 131,
   "metadata": {},
   "outputs": [],
   "source": [
    "data = np.load(os.path.join(config.ML_DATA_DIR, '{}_{}.npz'.format(TICKER, EXPIRY)))\n",
    "X_train = data['train_examples']\n",
    "Y_train = data['train_labels']\n",
    "X_test = data['test_examples']\n",
    "Y_test = data['test_labels']"
   ]
  },
  {
   "cell_type": "code",
   "execution_count": 132,
   "metadata": {},
   "outputs": [],
   "source": [
    "train_dataset = tf.data.Dataset.from_tensor_slices(\n",
    "    (data['train_examples'], data['train_labels']))\n",
    "test_dataset = tf.data.Dataset.from_tensor_slices(\n",
    "    (data['test_examples'], data['test_labels']))"
   ]
  },
  {
   "cell_type": "code",
   "execution_count": 133,
   "metadata": {},
   "outputs": [],
   "source": [
    "BATCH_SIZE = 512\n",
    "BUFFER_SIZE = 100\n",
    "STEPS_PER_EPOCH = X_train.shape[0]//BATCH_SIZE"
   ]
  },
  {
   "cell_type": "code",
   "execution_count": 134,
   "metadata": {},
   "outputs": [],
   "source": [
    "train_dataset = train_dataset.shuffle(\n",
    "    BUFFER_SIZE, reshuffle_each_iteration=True).batch(BATCH_SIZE).repeat()\n",
    "validate_dataset = test_dataset.batch(BATCH_SIZE)"
   ]
  },
  {
   "cell_type": "code",
   "execution_count": 135,
   "metadata": {},
   "outputs": [],
   "source": [
    "lr_schedule = keras.optimizers.schedules.InverseTimeDecay(\n",
    "    0.001,\n",
    "    decay_steps=STEPS_PER_EPOCH*10,\n",
    "    decay_rate=1,\n",
    "    staircase=False\n",
    ")\n",
    "\n",
    "def get_optimizer():\n",
    "    return keras.optimizers.Adam(lr_schedule)"
   ]
  },
  {
   "cell_type": "code",
   "execution_count": 147,
   "metadata": {},
   "outputs": [],
   "source": [
    "checkpoint_filepath = os.path.join(config.ML_MODELS_DIR, 'checkpoint')\n",
    "model_checkpoint_callback = keras.callbacks.ModelCheckpoint(\n",
    "    filepath=checkpoint_filepath,\n",
    "    save_weights_only=True,\n",
    "    monitor='loss',\n",
    "    mode='min',\n",
    "    save_best_only=True\n",
    ")\n",
    "\n",
    "def get_callbacks(name):\n",
    "    return [\n",
    "        # tfdocs.modeling.EpochDots(),\n",
    "        model_checkpoint_callback,\n",
    "        tf.keras.callbacks.EarlyStopping(monitor='loss', patience=3),\n",
    "        tf.keras.callbacks.TensorBoard(logdir/name),\n",
    "    ]"
   ]
  },
  {
   "cell_type": "code",
   "execution_count": 137,
   "metadata": {},
   "outputs": [],
   "source": [
    "def compile_and_fit(model, name, optimizer=None, max_epochs=100):\n",
    "    if optimizer is None:\n",
    "        optimizer = get_optimizer()\n",
    "    model.compile(\n",
    "        optimizer=optimizer,\n",
    "        loss=tf.keras.losses.BinaryCrossentropy(from_logits=True),\n",
    "        metrics=[\n",
    "            tf.keras.losses.BinaryCrossentropy(\n",
    "                from_logits=True, name='binary_crossentropy'),\n",
    "            'accuracy'\n",
    "        ]\n",
    "    )\n",
    "\n",
    "    model.summary()\n",
    "\n",
    "    history = model.fit(\n",
    "        train_dataset,\n",
    "        steps_per_epoch = STEPS_PER_EPOCH,\n",
    "        epochs=max_epochs,\n",
    "        validation_data=validate_dataset,\n",
    "        callbacks=get_callbacks(name),\n",
    "        verbose=1)\n",
    "    return history"
   ]
  },
  {
   "cell_type": "code",
   "execution_count": 138,
   "metadata": {},
   "outputs": [],
   "source": [
    "model = Sequential([\n",
    "    Dense(256, activation='relu', input_shape=(X_train.shape[1],)),\n",
    "    Dense(128, activation='relu'),\n",
    "    Dense(64, activation='relu'),\n",
    "    Dense(32, activation='relu'),\n",
    "    Dense(1)\n",
    "])"
   ]
  },
  {
   "cell_type": "code",
   "execution_count": 139,
   "metadata": {},
   "outputs": [],
   "source": [
    "size_histories = {}"
   ]
  },
  {
   "cell_type": "code",
   "execution_count": 140,
   "metadata": {
    "tags": []
   },
   "outputs": [
    {
     "output_type": "stream",
     "name": "stdout",
     "text": "Model: \"sequential_17\"\n_________________________________________________________________\nLayer (type)                 Output Shape              Param #   \n=================================================================\ndense_85 (Dense)             (None, 256)               4864      \n_________________________________________________________________\ndense_86 (Dense)             (None, 128)               32896     \n_________________________________________________________________\ndense_87 (Dense)             (None, 64)                8256      \n_________________________________________________________________\ndense_88 (Dense)             (None, 32)                2080      \n_________________________________________________________________\ndense_89 (Dense)             (None, 1)                 33        \n=================================================================\nTotal params: 48,129\nTrainable params: 48,129\nNon-trainable params: 0\n_________________________________________________________________\nTrain for 1188 steps, validate for 510 steps\nEpoch 1/20\n1188/1188 [==============================] - 41s 34ms/step - loss: 0.1590 - binary_crossentropy: 0.1590 - accuracy: 0.9271 - val_loss: 0.1238 - val_binary_crossentropy: 0.1238 - val_accuracy: 0.9478\nEpoch 2/20\n1188/1188 [==============================] - 35s 29ms/step - loss: 0.0951 - binary_crossentropy: 0.0951 - accuracy: 0.9561 - val_loss: 0.0885 - val_binary_crossentropy: 0.0885 - val_accuracy: 0.9534\nEpoch 3/20\n1188/1188 [==============================] - 42s 35ms/step - loss: 0.0783 - binary_crossentropy: 0.0783 - accuracy: 0.9644 - val_loss: 0.0851 - val_binary_crossentropy: 0.0851 - val_accuracy: 0.9583\nEpoch 4/20\n1188/1188 [==============================] - 42s 35ms/step - loss: 0.0685 - binary_crossentropy: 0.0685 - accuracy: 0.9694 - val_loss: 0.0712 - val_binary_crossentropy: 0.0712 - val_accuracy: 0.9691\nEpoch 5/20\n1188/1188 [==============================] - 32s 27ms/step - loss: 0.0623 - binary_crossentropy: 0.0623 - accuracy: 0.9724 - val_loss: 0.0601 - val_binary_crossentropy: 0.0601 - val_accuracy: 0.9747\nEpoch 6/20\n1188/1188 [==============================] - 30s 26ms/step - loss: 0.0576 - binary_crossentropy: 0.0576 - accuracy: 0.9745 - val_loss: 0.0587 - val_binary_crossentropy: 0.0587 - val_accuracy: 0.9759\nEpoch 7/20\n1188/1188 [==============================] - 42s 35ms/step - loss: 0.0541 - binary_crossentropy: 0.0541 - accuracy: 0.9762 - val_loss: 0.0599 - val_binary_crossentropy: 0.0599 - val_accuracy: 0.9740\nEpoch 8/20\n1188/1188 [==============================] - 40s 33ms/step - loss: 0.0512 - binary_crossentropy: 0.0512 - accuracy: 0.9775 - val_loss: 0.0536 - val_binary_crossentropy: 0.0536 - val_accuracy: 0.9770\nEpoch 9/20\n1188/1188 [==============================] - 31s 27ms/step - loss: 0.0485 - binary_crossentropy: 0.0485 - accuracy: 0.9786 - val_loss: 0.0520 - val_binary_crossentropy: 0.0520 - val_accuracy: 0.9772\nEpoch 10/20\n1188/1188 [==============================] - 29s 25ms/step - loss: 0.0465 - binary_crossentropy: 0.0465 - accuracy: 0.9796 - val_loss: 0.0468 - val_binary_crossentropy: 0.0468 - val_accuracy: 0.9785\nEpoch 11/20\n1188/1188 [==============================] - 29s 24ms/step - loss: 0.0446 - binary_crossentropy: 0.0446 - accuracy: 0.9805 - val_loss: 0.0448 - val_binary_crossentropy: 0.0448 - val_accuracy: 0.9799\nEpoch 12/20\n1188/1188 [==============================] - 33s 27ms/step - loss: 0.0429 - binary_crossentropy: 0.0429 - accuracy: 0.9812 - val_loss: 0.0460 - val_binary_crossentropy: 0.0460 - val_accuracy: 0.9788\nEpoch 13/20\n1188/1188 [==============================] - 31s 26ms/step - loss: 0.0417 - binary_crossentropy: 0.0417 - accuracy: 0.9818 - val_loss: 0.0435 - val_binary_crossentropy: 0.0435 - val_accuracy: 0.9808\nEpoch 14/20\n1188/1188 [==============================] - 41s 35ms/step - loss: 0.0400 - binary_crossentropy: 0.0400 - accuracy: 0.9825 - val_loss: 0.0411 - val_binary_crossentropy: 0.0411 - val_accuracy: 0.9828\nEpoch 15/20\n1188/1188 [==============================] - 41s 34ms/step - loss: 0.0390 - binary_crossentropy: 0.0390 - accuracy: 0.9829 - val_loss: 0.0434 - val_binary_crossentropy: 0.0434 - val_accuracy: 0.9825\nEpoch 16/20\n1188/1188 [==============================] - 38s 32ms/step - loss: 0.0378 - binary_crossentropy: 0.0378 - accuracy: 0.9835 - val_loss: 0.0427 - val_binary_crossentropy: 0.0427 - val_accuracy: 0.9823\nEpoch 17/20\n1188/1188 [==============================] - 38s 32ms/step - loss: 0.0372 - binary_crossentropy: 0.0372 - accuracy: 0.9838 - val_loss: 0.0434 - val_binary_crossentropy: 0.0434 - val_accuracy: 0.9816\nEpoch 18/20\n1188/1188 [==============================] - 42s 35ms/step - loss: 0.0360 - binary_crossentropy: 0.0360 - accuracy: 0.9843 - val_loss: 0.0417 - val_binary_crossentropy: 0.0417 - val_accuracy: 0.9828\nEpoch 19/20\n1188/1188 [==============================] - 40s 33ms/step - loss: 0.0351 - binary_crossentropy: 0.0351 - accuracy: 0.9847 - val_loss: 0.0389 - val_binary_crossentropy: 0.0389 - val_accuracy: 0.9843\nEpoch 20/20\n1188/1188 [==============================] - 40s 34ms/step - loss: 0.0344 - binary_crossentropy: 0.0344 - accuracy: 0.9850 - val_loss: 0.0382 - val_binary_crossentropy: 0.0382 - val_accuracy: 0.9839\n"
    }
   ],
   "source": [
    "size_histories['test'] = compile_and_fit(model, 'sizes/test')"
   ]
  },
  {
   "cell_type": "code",
   "execution_count": 151,
   "metadata": {
    "tags": []
   },
   "outputs": [
    {
     "name": "stdout",
     "output_type": "stream",
     "text": "The tensorboard extension is already loaded. To reload it, use:\n  %reload_ext tensorboard\n"
    },
    {
     "data": {
      "text/plain": "Reusing TensorBoard on port 6006 (pid 13990), started 0:01:01 ago. (Use '!kill 13990' to kill it.)"
     },
     "metadata": {},
     "output_type": "display_data"
    }
   ],
   "source": [
    "#docs_infra: no_execute\n",
    "\n",
    "# Load the TensorBoard notebook extension\n",
    "%load_ext tensorboard\n",
    "\n",
    "# Open an embedded TensorBoard viewer\n",
    "%tensorboard --logdir {logdir}/sizes"
   ]
  },
  {
   "cell_type": "code",
   "execution_count": null,
   "metadata": {},
   "outputs": [],
   "source": []
  }
 ],
 "metadata": {
  "kernelspec": {
   "display_name": "Python 3",
   "language": "python",
   "name": "python3"
  },
  "language_info": {
   "codemirror_mode": {
    "name": "ipython",
    "version": 3
   },
   "file_extension": ".py",
   "mimetype": "text/x-python",
   "name": "python",
   "nbconvert_exporter": "python",
   "pygments_lexer": "ipython3",
   "version": "3.7.6-final"
  }
 },
 "nbformat": 4,
 "nbformat_minor": 4
}