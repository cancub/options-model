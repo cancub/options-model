{
 "cells": [
  {
   "cell_type": "code",
   "execution_count": null,
   "metadata": {},
   "outputs": [],
   "source": [
    "import tensorflow as tf\n",
    "from   tensorflow import keras\n",
    "from   tensorflow.keras import regularizers\n",
    "from   tensorflow.keras import Sequential\n",
    "from   tensorflow.keras.layers import Dropout, Dense"
   ]
  },
  {
   "cell_type": "code",
   "execution_count": null,
   "metadata": {
    "tags": []
   },
   "outputs": [],
   "source": [
    "import tensorflow_docs as tfdocs\n",
    "import tensorflow_docs.modeling\n",
    "import tensorflow_docs.plots"
   ]
  },
  {
   "cell_type": "code",
   "execution_count": null,
   "metadata": {},
   "outputs": [],
   "source": [
    "from   IPython import display\n",
    "from   matplotlib import pyplot as plt"
   ]
  },
  {
   "cell_type": "code",
   "execution_count": null,
   "metadata": {},
   "outputs": [],
   "source": [
    "import errno\n",
    "import glob\n",
    "import json\n",
    "import numpy as np\n",
    "import os\n",
    "import pandas as pd\n",
    "import pathlib\n",
    "import shutil\n",
    "import subprocess\n",
    "import tempfile\n",
    "import uuid"
   ]
  },
  {
   "cell_type": "code",
   "execution_count": null,
   "metadata": {},
   "outputs": [],
   "source": [
    "# Local modules\n",
    "import config\n",
    "import utils"
   ]
  },
  {
   "cell_type": "code",
   "execution_count": null,
   "metadata": {},
   "outputs": [],
   "source": [
    "# Globals\n",
    "TICKER     = 'SPY'\n",
    "EXPIRIES   = ['2020-08-28', '2020-09-18', '2020-11-20', '2021-02-19']"
   ]
  },
  {
   "cell_type": "code",
   "execution_count": null,
   "metadata": {},
   "outputs": [],
   "source": [
    "# For saving the model\n",
    "PREFIX = 'model'\n",
    "TICKER_MODEL_DIR = os.path.join(config.ML_MODELS_DIR, TICKER)"
   ]
  },
  {
   "cell_type": "code",
   "execution_count": null,
   "metadata": {},
   "outputs": [],
   "source": [
    "# Set the values to be used for working with the data\n",
    "MAX_DATAPOINTS = 2*10**6\n",
    "BATCH_SIZE = 512\n",
    "BUFFER_SIZE = 100\n",
    "MAX_MARGIN = 5\n",
    "MIN_PROFIT = 1\n",
    "FEES = utils.calculate_fee()\n",
    "DATA_SPLIT = 0.95\n",
    "MAX_EPOCHS = 200"
   ]
  },
  {
   "cell_type": "code",
   "execution_count": null,
   "metadata": {},
   "outputs": [],
   "source": [
    "# For tensorboard\n",
    "LOGDIR = pathlib.Path(tempfile.mkdtemp())/\"tensorboard_logs\"\n",
    "shutil.rmtree(LOGDIR, ignore_errors=True)"
   ]
  },
  {
   "cell_type": "code",
   "execution_count": null,
   "metadata": {},
   "outputs": [],
   "source": [
    "try:\n",
    "    os.makedirs(TICKER_MODEL_DIR)\n",
    "except OSError as e:\n",
    "    if e.errno != errno.EEXIST:\n",
    "        raise\n",
    "    for tmpdir in glob.glob('{}/{}*'.format(TICKER_MODEL_DIR, PREFIX)):\n",
    "        shutil.rmtree(tmpdir)\n",
    "MODEL_DIR = tempfile.mkdtemp(prefix='model', dir=TICKER_MODEL_DIR)"
   ]
  },
  {
   "cell_type": "code",
   "execution_count": null,
   "metadata": {
    "tags": []
   },
   "outputs": [],
   "source": [
    "# Load the data\n",
    "exp_paths = []\n",
    "for exp in EXPIRIES:\n",
    "    print('\\n'*2 + exp + '\\n'*2)\n",
    "    exp_paths.append(\n",
    "        utils.load_spreads(TICKER,\n",
    "                           exp,\n",
    "                           winning_profit=MIN_PROFIT+FEES,\n",
    "                           loss_win_ratio=3,\n",
    "                           verbose=True)\n",
    "    )"
   ]
  },
  {
   "cell_type": "code",
   "execution_count": null,
   "metadata": {},
   "outputs": [],
   "source": [
    "# Collect the statistics\n",
    "means = []\n",
    "variances = []\n",
    "sample_sizes = []\n",
    "\n",
    "for df in utils.spreads_dirs_to_generator(exp_paths, shuffle=True):\n",
    "    df_means, df_vars = utils.collect_statistics(df)\n",
    "    means.append(df_means)\n",
    "    variances.append(df_vars)\n",
    "    sample_sizes.append(df.shape[0])\n",
    "    \n",
    "pooled_means = None\n",
    "pooled_vars = None\n",
    "total_samples = sum(sample_sizes)\n",
    "for i in range(len(sample_sizes)):\n",
    "    next_mean = means[i] * sample_sizes[i]\n",
    "    next_var = variances[i] * (sample_sizes[i] - 1)\n",
    "    try:\n",
    "        pooled_means += next_mean\n",
    "        pooled_vars += next_var\n",
    "    except TypeError:\n",
    "        pooled_means = next_mean\n",
    "        pooled_vars = next_var\n",
    "        \n",
    "pooled_means /= total_samples\n",
    "pooled_vars /= (total_samples - len(sample_sizes))\n",
    "\n",
    "# Finally, reset some of the values that should not be changed\n",
    "static_columns = ['open_margin', 'max_profit']\n",
    "for i in range(1, 6):\n",
    "    type_col = 'leg{}_type'.format(i)\n",
    "    if type_col in trades_df.columns:\n",
    "        static_columns.append(type_col)\n",
    "\n",
    "for c in static_columns:\n",
    "    try:\n",
    "        pooled_means[c] = 0\n",
    "        pooled_vars[c] = 1\n",
    "    except KeyError:\n",
    "        pass"
   ]
  },
  {
   "cell_type": "code",
   "execution_count": null,
   "metadata": {},
   "outputs": [],
   "source": [
    "# Immediately save the metadata that we can\n",
    "pooled_means.to_pickle(os.path.join(MODEL_DIR, 'means'))\n",
    "pooled_vars.to_pickle(os.path.join(MODEL_DIR, 'vars'))\n",
    "pooled_stds = pooled_vars.pow(1/2)"
   ]
  },
  {
   "cell_type": "code",
   "execution_count": null,
   "metadata": {},
   "outputs": [],
   "source": [
    "pooled_means"
   ]
  },
  {
   "cell_type": "code",
   "execution_count": null,
   "metadata": {},
   "outputs": [],
   "source": [
    "# Pull in as much datapoints as desired by randomly going through the DataFrames\n",
    "data_to_use = []\n",
    "total_datapoints = 0\n",
    "for df in utils.spreads_tarball_to_generator(exp_paths, shuffle=True):\n",
    "    \n",
    "    # Whittle the data down to only what we want to stomach in terms of\n",
    "    # open margin\n",
    "    viable_trades_df = df[df.open_margin <= MAX_MARGIN]\n",
    "    \n",
    "    viable_count = viable_trades_df.shape[0]\n",
    "    if viable_count == 0:\n",
    "        continue\n",
    "\n",
    "    total_datapoints += viable_count\n",
    "    data_to_use.append(viable_trades_df)\n",
    "    \n",
    "    if total_datapoints >= MAX_DATAPOINTS:\n",
    "        break"
   ]
  },
  {
   "cell_type": "code",
   "execution_count": null,
   "metadata": {},
   "outputs": [],
   "source": [
    "# Get the final dataframe\n",
    "examples_df = pd.concat(data_to_use)\n",
    "data_to_use = []"
   ]
  },
  {
   "cell_type": "code",
   "execution_count": null,
   "metadata": {},
   "outputs": [],
   "source": [
    "# Get a 3-to-1 ratio of hard losers to winners\n",
    "examples_df = utils.collect_winners_and_hard_losers(examples_df, winning_profit=MIN_PROFIT)"
   ]
  },
  {
   "cell_type": "code",
   "execution_count": null,
   "metadata": {},
   "outputs": [],
   "source": [
    "# We don't need the open_margin anymore\n",
    "examples_df.drop(['open_margin'], axis=1, inplace=True)\n",
    "# Pop out the max_profit and compare it to our desired minimum profit\n",
    "labels = examples_df.pop('max_profit') >= MIN_PROFIT + FEES"
   ]
  },
  {
   "cell_type": "code",
   "execution_count": null,
   "metadata": {},
   "outputs": [],
   "source": [
    "n_examples, n_features = examples_df.shape\n",
    "print('{} examples\\n{} features'.format(n_examples, n_features))"
   ]
  },
  {
   "cell_type": "code",
   "execution_count": null,
   "metadata": {},
   "outputs": [],
   "source": [
    "feature_order = examples_df.columns.tolist()\n",
    "print(feature_order)"
   ]
  },
  {
   "cell_type": "code",
   "execution_count": null,
   "metadata": {},
   "outputs": [],
   "source": [
    "# Normalize all of the stuff that will be used for X.\n",
    "examples_df = (examples_df - pooled_means[examples_df.columns]) / pooled_stds[examples_df.columns]"
   ]
  },
  {
   "cell_type": "code",
   "execution_count": null,
   "metadata": {},
   "outputs": [],
   "source": [
    "# Build the datasets for train and validation\n",
    "dataset = tf.data.Dataset.from_tensor_slices((examples_df.values, labels.values)).shuffle(n_examples)\n",
    "\n",
    "# Split up the data\n",
    "n_train = int(n_examples * DATA_SPLIT)\n",
    "train_dataset = dataset.take(n_train)\n",
    "test_dataset = dataset.skip(n_train)\n",
    "\n",
    "STEPS_PER_EPOCH = n_train//BATCH_SIZE\n",
    "\n",
    "train_dataset = train_dataset.shuffle(\n",
    "    BUFFER_SIZE, reshuffle_each_iteration=True).batch(BATCH_SIZE).repeat()\n",
    "validate_dataset = test_dataset.batch(BATCH_SIZE)"
   ]
  },
  {
   "cell_type": "code",
   "execution_count": null,
   "metadata": {},
   "outputs": [],
   "source": [
    "lr_schedule = keras.optimizers.schedules.InverseTimeDecay(\n",
    "    0.001,\n",
    "    decay_steps=STEPS_PER_EPOCH*5,\n",
    "    decay_rate=1,\n",
    "    staircase=False\n",
    ")\n",
    "\n",
    "checkpoint_filepath = os.path.join(MODEL_DIR, 'checkpoint')\n",
    "model_checkpoint_callback = keras.callbacks.ModelCheckpoint(\n",
    "    filepath=checkpoint_filepath,\n",
    "    save_weights_only=False,\n",
    "    monitor='loss',\n",
    "    mode='min',\n",
    "    save_best_only=True\n",
    ")\n",
    "\n",
    "class MetadataSaver(keras.callbacks.Callback):\n",
    "    _best_loss = np.inf\n",
    "    def on_epoch_end(self, epoch, logs=None):\n",
    "        if logs['loss'] >= self._best_loss:\n",
    "            return\n",
    "        \n",
    "        self._best_loss = logs['loss']\n",
    "        with open(os.path.join(MODEL_DIR, 'metadata'), 'w') as MF:\n",
    "            json.dump(\n",
    "                {\n",
    "                    'ticker': TICKER,\n",
    "                    'expiries': EXPIRIES,\n",
    "                    'max_margin': MAX_MARGIN,\n",
    "                    'min_profit': MIN_PROFIT,\n",
    "                    'feature_order': feature_order,\n",
    "                    'n_examples': n_examples,\n",
    "                    'accuracy': float(logs['accuracy']),\n",
    "                    'loss': float(self._best_loss),\n",
    "                },\n",
    "                MF\n",
    "            )\n",
    "\n",
    "def get_callbacks(name):\n",
    "    return [\n",
    "        # tfdocs.modeling.EpochDots(),\n",
    "        model_checkpoint_callback,\n",
    "        MetadataSaver(),\n",
    "        tf.keras.callbacks.EarlyStopping(monitor='loss', patience=10),\n",
    "        tf.keras.callbacks.TensorBoard(LOGDIR/name),\n",
    "    ]\n",
    "\n",
    "model = Sequential([\n",
    "    Dense(512, activation='relu', input_shape=(n_features,)),\n",
    "    Dense(256, activation='relu'),\n",
    "    Dense(64, activation='relu'),\n",
    "    Dense(32, activation='relu'),\n",
    "    Dense(16, activation='relu'),\n",
    "    Dense(1)\n",
    "])\n",
    "\n",
    "model.compile(\n",
    "    optimizer=keras.optimizers.Adam(lr_schedule),\n",
    "    loss=tf.keras.losses.BinaryCrossentropy(from_logits=True),\n",
    "    metrics=[\n",
    "        tf.keras.losses.BinaryCrossentropy(\n",
    "            from_logits=True, name='binary_crossentropy'),\n",
    "        'accuracy'\n",
    "    ]\n",
    ")\n",
    "\n",
    "model.summary()"
   ]
  },
  {
   "cell_type": "code",
   "execution_count": null,
   "metadata": {},
   "outputs": [],
   "source": [
    "history = model.fit(train_dataset,\n",
    "                    steps_per_epoch = STEPS_PER_EPOCH,\n",
    "                    epochs=MAX_EPOCHS,\n",
    "                    validation_data=validate_dataset,\n",
    "                    callbacks=get_callbacks('testing'),\n",
    "                    verbose=1)"
   ]
  },
  {
   "cell_type": "code",
   "execution_count": null,
   "metadata": {},
   "outputs": [],
   "source": [
    "# Build a tarball for this session (ignoring the directory when including filenames)\n",
    "files_to_tar = [os.path.basename(f) for f in glob.glob('{}/*'.format(MODEL_DIR))]\n",
    "tarball_path = os.path.join(config.ML_MODELS_DIR, TICKER, '{}.tar'.format(uuid.uuid4()))\n",
    "subprocess.check_call(['tar', '-C', MODEL_DIR, '-cf', tarball_path] + files_to_tar)\n",
    "shutil.rmtree(MODEL_DIR, ignore_errors=True)"
   ]
  },
  {
   "cell_type": "code",
   "execution_count": null,
   "metadata": {
    "tags": []
   },
   "outputs": [],
   "source": [
    "#docs_infra: no_execute\n",
    "\n",
    "# Load the TensorBoard notebook extension\n",
    "%load_ext tensorboard\n",
    "\n",
    "# Open an embedded TensorBoard viewer\n",
    "%tensorboard --logdir {LOGDIR}/sizes"
   ]
  }
 ],
 "metadata": {
  "kernelspec": {
   "display_name": "Python 3",
   "language": "python",
   "name": "python3"
  },
  "language_info": {
   "codemirror_mode": {
    "name": "ipython",
    "version": 3
   },
   "file_extension": ".py",
   "mimetype": "text/x-python",
   "name": "python",
   "nbconvert_exporter": "python",
   "pygments_lexer": "ipython3",
   "version": "3.7.6"
  }
 },
 "nbformat": 4,
 "nbformat_minor": 4
}
